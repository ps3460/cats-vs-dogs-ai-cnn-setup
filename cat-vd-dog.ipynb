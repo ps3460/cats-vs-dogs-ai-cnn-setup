{
 "cells": [
  {
   "cell_type": "markdown",
   "id": "12a2d745-ab7b-4a16-a7fd-5330a7e775e1",
   "metadata": {},
   "source": [
    "# CNN with cats and dogs"
   ]
  },
  {
   "cell_type": "markdown",
   "id": "53be05db-edd3-4b35-a2d8-974f57fcddda",
   "metadata": {},
   "source": [
    "## Are we using a virtual environmemnt\n",
    "we are looking for something like\n",
    "\n",
    "/home/pi/projects/cats_vs_dogs/bin/python3"
   ]
  },
  {
   "cell_type": "code",
   "execution_count": 1,
   "id": "4423a35c-f7aa-43a1-889a-fd4698b56d1e",
   "metadata": {},
   "outputs": [
    {
     "name": "stdout",
     "output_type": "stream",
     "text": [
      "/home/pi/projects/cats_vs_dogs/bin/python3\n"
     ]
    }
   ],
   "source": [
    "import sys\n",
    "print(sys.executable)"
   ]
  },
  {
   "cell_type": "markdown",
   "id": "e0c27abf-6906-48f9-9245-04e1dee48a42",
   "metadata": {},
   "source": [
    "## Download from Kaggle"
   ]
  },
  {
   "cell_type": "code",
   "execution_count": null,
   "id": "c1726b3f-424d-406f-aff0-a4ada32de6da",
   "metadata": {},
   "outputs": [],
   "source": [
    "import kagglehub\n",
    "import os\n",
    "shaunthesheep_microsoft_catsvsdogs_dataset_path = kagglehub.dataset_download('shaunthesheep/microsoft-catsvsdogs-dataset')\n"
   ]
  },
  {
   "cell_type": "markdown",
   "id": "fb9e90ef-77ae-4ba1-a63c-9edeff5e864d",
   "metadata": {},
   "source": [
    "## Files saved to"
   ]
  },
  {
   "cell_type": "code",
   "execution_count": null,
   "id": "2f901410-7772-42a5-a94f-a23b06c8119e",
   "metadata": {},
   "outputs": [],
   "source": [
    "\n",
    "\n",
    "# This line downloads the data and stores the path in a variable\n",
    "shaunthesheep_microsoft_catsvsdogs_dataset_path = kagglehub.dataset_download('shaunthesheep/microsoft-catsvsdogs-dataset')\n",
    "\n",
    "# Use os.path.abspath to get a clear, full path\n",
    "full_path = os.path.abspath(shaunthesheep_microsoft_catsvsdogs_dataset_path)\n",
    "\n",
    "print(f\"The dataset was downloaded to: {full_path}\")"
   ]
  },
  {
   "cell_type": "code",
   "execution_count": 2,
   "id": "5e587455-3130-4ec2-b201-7368b6aa7bf9",
   "metadata": {},
   "outputs": [],
   "source": [
    "## Move images to project"
   ]
  },
  {
   "cell_type": "code",
   "execution_count": null,
   "id": "76755704-bad8-4320-b626-313020206857",
   "metadata": {},
   "outputs": [],
   "source": [
    "import shutil\n",
    "\n",
    "# Define the source and destination paths\n",
    "source_path = '/home/pi/.cache/kagglehub/datasets/shaunthesheep/microsoft-catsvsdogs-dataset/versions/1/PetImages/'\n",
    "destination_path = '/home/pi/projects/images'\n",
    "\n",
    "# Create the destination directory if it doesn't already exist\n",
    "os.makedirs(destination_path, exist_ok=True)\n",
    "\n",
    "# Get a list of all items (files and subdirectories) in the source path\n",
    "items_to_move = os.listdir(source_path)\n",
    "\n",
    "# Loop through the items and move them\n",
    "for item in items_to_move:\n",
    "    source_item_path = os.path.join(source_path, item)\n",
    "    shutil.move(source_item_path, destination_path)\n",
    "    \n",
    "print(f\"✅ Successfully moved {len(items_to_move)} items to {destination_path}\")"
   ]
  },
  {
   "cell_type": "markdown",
   "id": "dcbc0f91-3c27-4f22-a0a4-c8f3eb235ecd",
   "metadata": {},
   "source": [
    "## Set up the AI Engine"
   ]
  },
  {
   "cell_type": "code",
   "execution_count": 3,
   "id": "a48a7409-1ea9-4b8e-858b-ef14c432e1ee",
   "metadata": {},
   "outputs": [
    {
     "name": "stdout",
     "output_type": "stream",
     "text": [
      "Requirement already satisfied: tensorflow in ./cats_vs_dogs/lib/python3.13/site-packages (2.20.0)\n",
      "Requirement already satisfied: opencv-python in ./cats_vs_dogs/lib/python3.13/site-packages (4.12.0.88)\n",
      "Requirement already satisfied: matplotlib in ./cats_vs_dogs/lib/python3.13/site-packages (3.10.6)\n",
      "Requirement already satisfied: absl-py>=1.0.0 in ./cats_vs_dogs/lib/python3.13/site-packages (from tensorflow) (2.3.1)\n",
      "Requirement already satisfied: astunparse>=1.6.0 in ./cats_vs_dogs/lib/python3.13/site-packages (from tensorflow) (1.6.3)\n",
      "Requirement already satisfied: flatbuffers>=24.3.25 in ./cats_vs_dogs/lib/python3.13/site-packages (from tensorflow) (25.2.10)\n",
      "Requirement already satisfied: gast!=0.5.0,!=0.5.1,!=0.5.2,>=0.2.1 in ./cats_vs_dogs/lib/python3.13/site-packages (from tensorflow) (0.6.0)\n",
      "Requirement already satisfied: google_pasta>=0.1.1 in ./cats_vs_dogs/lib/python3.13/site-packages (from tensorflow) (0.2.0)\n",
      "Requirement already satisfied: libclang>=13.0.0 in ./cats_vs_dogs/lib/python3.13/site-packages (from tensorflow) (18.1.1)\n",
      "Requirement already satisfied: opt_einsum>=2.3.2 in ./cats_vs_dogs/lib/python3.13/site-packages (from tensorflow) (3.4.0)\n",
      "Requirement already satisfied: packaging in ./cats_vs_dogs/lib/python3.13/site-packages (from tensorflow) (25.0)\n",
      "Requirement already satisfied: protobuf>=5.28.0 in ./cats_vs_dogs/lib/python3.13/site-packages (from tensorflow) (6.32.1)\n",
      "Requirement already satisfied: requests<3,>=2.21.0 in ./cats_vs_dogs/lib/python3.13/site-packages (from tensorflow) (2.32.5)\n",
      "Requirement already satisfied: setuptools in ./cats_vs_dogs/lib/python3.13/site-packages (from tensorflow) (80.9.0)\n",
      "Requirement already satisfied: six>=1.12.0 in ./cats_vs_dogs/lib/python3.13/site-packages (from tensorflow) (1.17.0)\n",
      "Requirement already satisfied: termcolor>=1.1.0 in ./cats_vs_dogs/lib/python3.13/site-packages (from tensorflow) (3.1.0)\n",
      "Requirement already satisfied: typing_extensions>=3.6.6 in ./cats_vs_dogs/lib/python3.13/site-packages (from tensorflow) (4.15.0)\n",
      "Requirement already satisfied: wrapt>=1.11.0 in ./cats_vs_dogs/lib/python3.13/site-packages (from tensorflow) (1.17.3)\n",
      "Requirement already satisfied: grpcio<2.0,>=1.24.3 in ./cats_vs_dogs/lib/python3.13/site-packages (from tensorflow) (1.75.0)\n",
      "Requirement already satisfied: tensorboard~=2.20.0 in ./cats_vs_dogs/lib/python3.13/site-packages (from tensorflow) (2.20.0)\n",
      "Requirement already satisfied: keras>=3.10.0 in ./cats_vs_dogs/lib/python3.13/site-packages (from tensorflow) (3.11.3)\n",
      "Requirement already satisfied: numpy>=1.26.0 in ./cats_vs_dogs/lib/python3.13/site-packages (from tensorflow) (2.2.6)\n",
      "Requirement already satisfied: h5py>=3.11.0 in ./cats_vs_dogs/lib/python3.13/site-packages (from tensorflow) (3.14.0)\n",
      "Requirement already satisfied: ml_dtypes<1.0.0,>=0.5.1 in ./cats_vs_dogs/lib/python3.13/site-packages (from tensorflow) (0.5.3)\n",
      "Requirement already satisfied: charset_normalizer<4,>=2 in ./cats_vs_dogs/lib/python3.13/site-packages (from requests<3,>=2.21.0->tensorflow) (3.4.3)\n",
      "Requirement already satisfied: idna<4,>=2.5 in ./cats_vs_dogs/lib/python3.13/site-packages (from requests<3,>=2.21.0->tensorflow) (3.10)\n",
      "Requirement already satisfied: urllib3<3,>=1.21.1 in ./cats_vs_dogs/lib/python3.13/site-packages (from requests<3,>=2.21.0->tensorflow) (2.5.0)\n",
      "Requirement already satisfied: certifi>=2017.4.17 in ./cats_vs_dogs/lib/python3.13/site-packages (from requests<3,>=2.21.0->tensorflow) (2025.8.3)\n",
      "Requirement already satisfied: markdown>=2.6.8 in ./cats_vs_dogs/lib/python3.13/site-packages (from tensorboard~=2.20.0->tensorflow) (3.9)\n",
      "Requirement already satisfied: pillow in ./cats_vs_dogs/lib/python3.13/site-packages (from tensorboard~=2.20.0->tensorflow) (11.3.0)\n",
      "Requirement already satisfied: tensorboard-data-server<0.8.0,>=0.7.0 in ./cats_vs_dogs/lib/python3.13/site-packages (from tensorboard~=2.20.0->tensorflow) (0.7.2)\n",
      "Requirement already satisfied: werkzeug>=1.0.1 in ./cats_vs_dogs/lib/python3.13/site-packages (from tensorboard~=2.20.0->tensorflow) (3.1.3)\n",
      "Requirement already satisfied: contourpy>=1.0.1 in ./cats_vs_dogs/lib/python3.13/site-packages (from matplotlib) (1.3.3)\n",
      "Requirement already satisfied: cycler>=0.10 in ./cats_vs_dogs/lib/python3.13/site-packages (from matplotlib) (0.12.1)\n",
      "Requirement already satisfied: fonttools>=4.22.0 in ./cats_vs_dogs/lib/python3.13/site-packages (from matplotlib) (4.59.2)\n",
      "Requirement already satisfied: kiwisolver>=1.3.1 in ./cats_vs_dogs/lib/python3.13/site-packages (from matplotlib) (1.4.9)\n",
      "Requirement already satisfied: pyparsing>=2.3.1 in ./cats_vs_dogs/lib/python3.13/site-packages (from matplotlib) (3.2.4)\n",
      "Requirement already satisfied: python-dateutil>=2.7 in ./cats_vs_dogs/lib/python3.13/site-packages (from matplotlib) (2.9.0.post0)\n",
      "Requirement already satisfied: wheel<1.0,>=0.23.0 in ./cats_vs_dogs/lib/python3.13/site-packages (from astunparse>=1.6.0->tensorflow) (0.45.1)\n",
      "Requirement already satisfied: rich in ./cats_vs_dogs/lib/python3.13/site-packages (from keras>=3.10.0->tensorflow) (14.1.0)\n",
      "Requirement already satisfied: namex in ./cats_vs_dogs/lib/python3.13/site-packages (from keras>=3.10.0->tensorflow) (0.1.0)\n",
      "Requirement already satisfied: optree in ./cats_vs_dogs/lib/python3.13/site-packages (from keras>=3.10.0->tensorflow) (0.17.0)\n",
      "Requirement already satisfied: MarkupSafe>=2.1.1 in ./cats_vs_dogs/lib/python3.13/site-packages (from werkzeug>=1.0.1->tensorboard~=2.20.0->tensorflow) (3.0.2)\n",
      "Requirement already satisfied: markdown-it-py>=2.2.0 in ./cats_vs_dogs/lib/python3.13/site-packages (from rich->keras>=3.10.0->tensorflow) (4.0.0)\n",
      "Requirement already satisfied: pygments<3.0.0,>=2.13.0 in ./cats_vs_dogs/lib/python3.13/site-packages (from rich->keras>=3.10.0->tensorflow) (2.19.2)\n",
      "Requirement already satisfied: mdurl~=0.1 in ./cats_vs_dogs/lib/python3.13/site-packages (from markdown-it-py>=2.2.0->rich->keras>=3.10.0->tensorflow) (0.1.2)\n",
      "Note: you may need to restart the kernel to use updated packages.\n"
     ]
    }
   ],
   "source": [
    "%pip install tensorflow opencv-python matplotlib"
   ]
  },
  {
   "cell_type": "code",
   "execution_count": null,
   "id": "143630c1-4ba4-42e2-8bba-2881eeb14903",
   "metadata": {},
   "outputs": [],
   "source": [
    "import tensorflow as tf\n",
    "import cv2\n",
    "import imghdr"
   ]
  },
  {
   "cell_type": "code",
   "execution_count": null,
   "id": "8b0555c1-389f-4605-80e6-7f88d3e26275",
   "metadata": {},
   "outputs": [],
   "source": [
    "data_dir = 'images' "
   ]
  },
  {
   "cell_type": "code",
   "execution_count": null,
   "id": "be2296bf-af0d-4508-85ef-62bb67124365",
   "metadata": {},
   "outputs": [],
   "source": [
    "image_exts = ['jpeg','jpg', 'bmp', 'png']"
   ]
  },
  {
   "cell_type": "code",
   "execution_count": null,
   "id": "76ebb274-0822-47b4-8295-0fff4c132a6f",
   "metadata": {},
   "outputs": [],
   "source": [
    "for image_class in os.listdir(data_dir): \n",
    "    for image in os.listdir(os.path.join(data_dir, image_class)):\n",
    "        image_path = os.path.join(data_dir, image_class, image)\n",
    "        try: \n",
    "            img = cv2.imread(image_path)\n",
    "            tip = imghdr.what(image_path)\n",
    "            if tip not in image_exts: \n",
    "                print('Image not in ext list {}'.format(image_path))\n",
    "                os.remove(image_path)\n",
    "        except Exception as e: \n",
    "            print('Issue with image {}'.format(image_path))\n",
    "            # os.remove(image_path)"
   ]
  },
  {
   "cell_type": "code",
   "execution_count": null,
   "id": "4b3cc838-5aa7-40fa-acb2-ffdd88bf2b4f",
   "metadata": {},
   "outputs": [],
   "source": [
    "# Load data in to System"
   ]
  },
  {
   "cell_type": "code",
   "execution_count": null,
   "id": "309cde25-f7ff-4112-8ad2-f71a61085cd7",
   "metadata": {},
   "outputs": [],
   "source": [
    "import numpy as np\n",
    "from matplotlib import pyplot as plt"
   ]
  },
  {
   "cell_type": "code",
   "execution_count": null,
   "id": "39f65b1f-5421-4cae-8b40-8137ed8b353d",
   "metadata": {},
   "outputs": [],
   "source": [
    "data = tf.keras.utils.image_dataset_from_directory('data')"
   ]
  }
 ],
 "metadata": {
  "kernelspec": {
   "display_name": "Python 3 (ipykernel)",
   "language": "python",
   "name": "python3"
  },
  "language_info": {
   "codemirror_mode": {
    "name": "ipython",
    "version": 3
   },
   "file_extension": ".py",
   "mimetype": "text/x-python",
   "name": "python",
   "nbconvert_exporter": "python",
   "pygments_lexer": "ipython3",
   "version": "3.13.5"
  }
 },
 "nbformat": 4,
 "nbformat_minor": 5
}
